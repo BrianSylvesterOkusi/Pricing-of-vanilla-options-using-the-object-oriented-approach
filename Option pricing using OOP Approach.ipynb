{
 "cells": [
  {
   "cell_type": "markdown",
   "metadata": {},
   "source": [
    "The objective of this project is to perform pricing of vanilla options using the object-oriented approach.\n",
    "\n",
    "### Methods applied\n",
    "\n",
    "1. Pricing European call and put options using Black-Scholes-Merton model\n",
    "\n",
    "### Steps followed\n",
    "\n",
    "1. Setting up class and constructor\n",
    "2. Defining the parameters: Stock price, Strike price, Interest rate, Dividend yield, Expiry, Volatility\n",
    "3. Calculating d1 and d2\n",
    "4. Implementing the closed form solution based on the Black-Scholes equation\n",
    "5. Plotting the option prices against strike prices\n",
    "6. Calculating the option greeks\n"
   ]
  },
  {
   "cell_type": "code",
   "execution_count": 1,
   "metadata": {},
   "outputs": [],
   "source": [
    "import numpy as np\n",
    "import pandas as pd\n",
    "pd.set_option('display.width', 320) \n",
    "pd.set_option('display.max_rows', 100) #maximum number of rows\n",
    "pd.options.display.float_format = '{:,.2f}'.format #Disable scientific notation \n",
    "import scipy.stats as si\n",
    "import matplotlib.pyplot as plt"
   ]
  },
  {
   "cell_type": "markdown",
   "metadata": {},
   "source": [
    "The following are the Black-Scholes-Merton option pricing formulas:\n",
    "\n",
    "$$Call price = S*\\exp{(-q*t)}*N(d_1) - K*\\exp{(-r*t)}*N(d_2)$$\n",
    "\n",
    "$$Put price = K*\\exp{(-r*t)}*N(-d_2) - S*\\exp{(-q*t)}*N(-d_1)$$"
   ]
  },
  {
   "cell_type": "markdown",
   "metadata": {},
   "source": [
    "## 1. Implementing the Object Oriented Programming Approach"
   ]
  },
  {
   "cell_type": "code",
   "execution_count": 2,
   "metadata": {},
   "outputs": [],
   "source": [
    "class BSM_Model:\n",
    "    def __init__(self, option_type, price, strike, interest_rate, expiry, volatility, dividend_yield=0):\n",
    "        self.s = price # Underlying asset price\n",
    "        self.k = strike # Option strike price\n",
    "        self.r = interest_rate # Continuous risk fee rate\n",
    "        self.q = dividend_yield # Dividend continuous rate\n",
    "        self.T = expiry # time to expiry (year)\n",
    "        self.sigma = volatility # Underlying volatility\n",
    "        self.type = option_type # option type \"p\" represents put option while type \"c\" represents call option\n",
    "        \n",
    "    def N(self, d):\n",
    "        return si.norm.cdf(d)\n",
    "    \n",
    "    def norm_phi_pdf(self, d):\n",
    "        return norm.pdf(d)\n",
    "    def d1(self):\n",
    "        d1=(np.log(self.s/self.k)+(self.r-self.q+0.5*self.sigma**2)*self.T)/(self.sigma*np.sqrt(self.T))\n",
    "        return d1\n",
    "    \n",
    "    def d2(self):\n",
    "        d2 = (np.log(self.s / self.k) + (self.r - self.q - 0.5*self.sigma**2)*self.T) / (self.sigma *np.sqrt(self.T))\n",
    "        return d2\n",
    "    def BSM_price(self):\n",
    "        d1=self.d1()\n",
    "        d2 = d1-self.sigma*np.sqrt(self.T)\n",
    "        if self.type == 'c':\n",
    "            price =np.exp(-self.r*self.T)*(self.s*np.exp((self.r-self.q)*self.T)*self.N(d1) - self.k*self.N(d2))\n",
    "            call_price = self.s*np.exp(-self.q*self.T)*self.N(d1)- self.k*np.exp(-self.r*self.T)*self.N(d2)\n",
    "            return call_price\n",
    "        elif self.type == 'p':\n",
    "            put_price = self.k*np.exp(-self.r*self.T)*self.N(-d2) - self.s*np.exp(-self.q*self.T)*self.N(-d1)\n",
    "            return put_price\n",
    "        else:\n",
    "            print (\"option type can only be call or put\")\n"
   ]
  },
  {
   "cell_type": "markdown",
   "metadata": {},
   "source": [
    "### 1.1 Practical examples"
   ]
  },
  {
   "cell_type": "markdown",
   "metadata": {},
   "source": [
    "### 1.1.1 Call Option"
   ]
  },
  {
   "cell_type": "code",
   "execution_count": 3,
   "metadata": {},
   "outputs": [
    {
     "data": {
      "text/plain": [
       "4.759422392871532"
      ]
     },
     "execution_count": 3,
     "metadata": {},
     "output_type": "execute_result"
    }
   ],
   "source": [
    "Example_1 = BSM_Model('c', 42, 40, 0.1, 0.5, 0.2)#S,K,r,T,v\n",
    "Example_1.BSM_price()"
   ]
  },
  {
   "cell_type": "code",
   "execution_count": 4,
   "metadata": {},
   "outputs": [
    {
     "data": {
      "text/plain": [
       "4.759422392871532"
      ]
     },
     "execution_count": 4,
     "metadata": {},
     "output_type": "execute_result"
    }
   ],
   "source": [
    "Call_Example = BSM_Model('c', 42, 40, 0.1, 0.5, 0.2)#S,K,r,T,v\n",
    "Call_Example.BSM_price()"
   ]
  },
  {
   "cell_type": "markdown",
   "metadata": {},
   "source": [
    "### 1.1.2 Put Option"
   ]
  },
  {
   "cell_type": "code",
   "execution_count": 5,
   "metadata": {},
   "outputs": [
    {
     "data": {
      "text/plain": [
       "0.8085993729000922"
      ]
     },
     "execution_count": 5,
     "metadata": {},
     "output_type": "execute_result"
    }
   ],
   "source": [
    "Put_Example = BSM_Model('p', 42, 40, 0.1, 0.5, 0.2)#S,K,r,T,v\n",
    "Put_Example.BSM_price()"
   ]
  },
  {
   "cell_type": "markdown",
   "metadata": {},
   "source": [
    "## 1.2 Plotting the Option price curve Relative to Strikes"
   ]
  },
  {
   "cell_type": "code",
   "execution_count": 6,
   "metadata": {},
   "outputs": [
    {
     "data": {
      "text/plain": [
       "array([30.        , 32.22222222, 34.44444444, 36.66666667, 38.88888889,\n",
       "       41.11111111, 43.33333333, 45.55555556, 47.77777778, 50.        ])"
      ]
     },
     "execution_count": 6,
     "metadata": {},
     "output_type": "execute_result"
    }
   ],
   "source": [
    "# An array of strike prices\n",
    "np.linspace(30, 50, 10)"
   ]
  },
  {
   "cell_type": "code",
   "execution_count": 11,
   "metadata": {},
   "outputs": [],
   "source": [
    "# Applying the strike prices in the BSM model\n",
    "strikes = np.linspace(30, 50, 10)\n",
    "price = 42; interest_rate = 0.1; expiry =0.5; volatility = 0.2\n",
    "call_prices = BSM_Model('c', price,strikes , interest_rate, expiry, volatility).BSM_price()\n",
    "put_prices = BSM_Model('p', price,strikes , interest_rate, expiry, volatility).BSM_price()"
   ]
  },
  {
   "cell_type": "code",
   "execution_count": 10,
   "metadata": {},
   "outputs": [
    {
     "data": {
      "text/plain": [
       "Text(0.5, 1.0, 'Call Option Price Curve Relative to Strikes')"
      ]
     },
     "execution_count": 10,
     "metadata": {},
     "output_type": "execute_result"
    },
    {
     "data": {
      "image/png": "[encoded data removed]",
      "text/plain": [
       "<Figure size 432x288 with 1 Axes>"
      ]
     },
     "metadata": {
      "needs_background": "light"
     },
     "output_type": "display_data"
    }
   ],
   "source": [
    "# plotting the call prices against strike prices\n",
    "plt.plot(strikes, call_prices)\n",
    "plt.xlabel(\"$Strike (K)$\")\n",
    "plt.ylabel(\"Option Price\")\n",
    "plt.title(\"Call Option Price Curve Relative to Strikes\")"
   ]
  },
  {
   "cell_type": "code",
   "execution_count": 12,
   "metadata": {},
   "outputs": [
    {
     "data": {
      "text/plain": [
       "Text(0.5, 1.0, 'Put Option Price Curve Relative to Strikes')"
      ]
     },
     "execution_count": 12,
     "metadata": {},
     "output_type": "execute_result"
    },
    {
     "data": {
      "image/png": "[encoded data removed]",
      "text/plain": [
       "<Figure size 432x288 with 1 Axes>"
      ]
     },
     "metadata": {
      "needs_background": "light"
     },
     "output_type": "display_data"
    }
   ],
   "source": [
    "# plotting the call prices against strike prices\n",
    "plt.plot(strikes, put_prices)\n",
    "plt.xlabel(\"$Strike (K)$\")\n",
    "plt.ylabel(\"Option Price\")\n",
    "plt.title(\"Put Option Price Curve Relative to Strikes\")"
   ]
  },
  {
   "cell_type": "markdown",
   "metadata": {},
   "source": [
    "## 2. Option Greeks"
   ]
  },
  {
   "cell_type": "markdown",
   "metadata": {},
   "source": [
    "#### Calculating d1 and d2:\n",
    "$$d_1 = \\frac{ln\\frac{S}{K}+(r+\\frac{\\sigma^2}{2})*t}{\\sigma\\sqrt{t}}$$\n",
    "\n",
    "$$d_2 = d_1 - \\sigma\\sqrt{t}$$"
   ]
  },
  {
   "cell_type": "markdown",
   "metadata": {},
   "source": [
    "#### Calculating delta:\n",
    "\n",
    "$$call delta = N(d_1)$$\n",
    "\n",
    "$$Put delta = N(d_1)-1$$"
   ]
  },
  {
   "cell_type": "markdown",
   "metadata": {},
   "source": [
    "#### Calculating gamma:\n",
    "$$Gamma = \\frac{\\phi(d_1)}{S*v*\\sqrt{(T-t)}}$$"
   ]
  },
  {
   "cell_type": "markdown",
   "metadata": {},
   "source": [
    "#### Calculating vega:\n",
    "$$Vega = S*\\phi(d_1)*\\sqrt{(T-t)}$$"
   ]
  },
  {
   "cell_type": "markdown",
   "metadata": {},
   "source": [
    "#### Calculating theta:\n",
    "$$Call Theta = \\frac{-S*\\phi(d_1)*v}{2*\\sqrt{(T-t)}} - r*K*\\exp({-r(T-t)})*N(d_2)$$\n",
    "\n",
    "$$Put Theta = \\frac{-S*\\phi(d_1)*v}{2*\\sqrt{(T-t)}} + r*K*\\exp({-r(T-t)})*N(-d_2)$$"
   ]
  },
  {
   "cell_type": "markdown",
   "metadata": {},
   "source": [
    "#### Calculating rho:\n",
    "$$Call  rho = K*(T-t)*\\exp({-r(T-t)})*N(d_2)$$\n",
    "\n",
    "$$Put  rho = -K*(T-t)*\\exp({-r(T-t)})*N(-d_2)$$"
   ]
  },
  {
   "cell_type": "code",
   "execution_count": 24,
   "metadata": {},
   "outputs": [],
   "source": [
    "def norm_pdf_phi(x):\n",
    "    return si.norm.pdf(x)\n",
    "\n",
    "def N(z):\n",
    "    return si.norm.cdf(z,0.0,1.0)"
   ]
  },
  {
   "cell_type": "markdown",
   "metadata": {},
   "source": [
    "### 2.1 Call Option Greeks "
   ]
  },
  {
   "cell_type": "code",
   "execution_count": 25,
   "metadata": {},
   "outputs": [],
   "source": [
    "class call_option(object):\n",
    "    def __init__(self,stock,strike,risk_free_int,expiry,volatility):\n",
    "        self.S=stock\n",
    "        self.K=strike\n",
    "        self.T=expiry\n",
    "        self.r=risk_free_int\n",
    "        self.v=volatility\n",
    "        \n",
    "    def norm_phi_pdf(self, d):\n",
    "        return norm.pdf(d)\n",
    "    def N(self,d):\n",
    "        return si.norm.pdf(d)\n",
    "    def d1(self):\n",
    "        d1=(np.log(self.S/self.K)+(self.r+0.5*self.v**2)*self.T)/(self.v*np.sqrt(self.T))\n",
    "        return d1\n",
    "    def delta(self):\n",
    "        d1=self.d1()\n",
    "        delta=N(d1)-1\n",
    "        return delta\n",
    "    def gamma(self):\n",
    "        d1=self.d1()\n",
    "        gamma=norm_pdf_phi(d1)/(self.S*self.v*np.sqrt(self.T))\n",
    "        return gamma\n",
    "    def theta(self):\n",
    "        d1=self.d1()\n",
    "        d2 = d1-self.v*np.sqrt(self.T)\n",
    "        theta=(-((self.S*norm_pdf_phi(d1)*self.v)/(2.0*np.sqrt(self.T)))-(self.r*self.K*np.exp(-self.r*self.T)*N(d2)))\n",
    "        return theta\n",
    "    def vega(self):\n",
    "        d1=self.d1()\n",
    "        vega=(self.S*norm_pdf_phi(d1)*np.sqrt(self.T))/100.0\n",
    "        return vega"
   ]
  },
  {
   "cell_type": "code",
   "execution_count": 26,
   "metadata": {},
   "outputs": [
    {
     "name": "stdout",
     "output_type": "stream",
     "text": [
      "0.779131290942669\n",
      "0.04996267040591185\n",
      "-4.559092194592627\n",
      "0.08813415059602853\n"
     ]
    }
   ],
   "source": [
    "Greek_Example_1 = call_option(42, 40, 0.1, 0.5, 0.2)#S,K,r,T,v\n",
    "print(Greek_Example_1.delta())\n",
    "print(Greek_Example_1.gamma())\n",
    "print(Greek_Example_1.theta())\n",
    "print(Greek_Example_1.vega())"
   ]
  },
  {
   "cell_type": "markdown",
   "metadata": {},
   "source": [
    "### 2.2 Put Option Greeks "
   ]
  },
  {
   "cell_type": "code",
   "execution_count": 27,
   "metadata": {},
   "outputs": [],
   "source": [
    "class put_option(object):\n",
    "    def __init__(self,stock,strike,risk_free_int,expiry,volatility):\n",
    "        self.S=stock\n",
    "        self.K=strike\n",
    "        self.T=expiry\n",
    "        self.r=risk_free_int\n",
    "        self.v=volatility\n",
    "        \n",
    "    def norm_phi_pdf(self, d):\n",
    "        return norm.pdf(d)\n",
    "    def N(self,d):\n",
    "        return si.norm.pdf(d)\n",
    "    def d1(self):\n",
    "        d1=(np.log(self.S/self.K)+(self.r+0.5*self.v**2)*self.T)/(self.v*np.sqrt(self.T))\n",
    "        return d1\n",
    "    def delta(self):\n",
    "        d1=self.d1()\n",
    "        delta=N(d1)\n",
    "        return delta\n",
    "    def gamma(self):\n",
    "        d1=self.d1()\n",
    "        gamma=norm_pdf_phi(d1)/(self.S*self.v*np.sqrt(self.T))\n",
    "        return gamma\n",
    "    def theta(self):\n",
    "        d1=self.d1()\n",
    "        d2 = d1-self.v*np.sqrt(self.T)\n",
    "        theta=(-((self.S*norm_pdf_phi(d1)*self.v)/(2.0*np.sqrt(self.T)))+(self.r*self.K*np.exp(-self.r*self.T)*N(-d2)))\n",
    "        return theta\n",
    "    def vega(self):\n",
    "        d1=self.d1()\n",
    "        vega=(self.S*norm_pdf_phi(d1)*np.sqrt(self.T))/100.0\n",
    "        return vega"
   ]
  },
  {
   "cell_type": "code",
   "execution_count": 28,
   "metadata": {},
   "outputs": [
    {
     "name": "stdout",
     "output_type": "stream",
     "text": [
      "0.779131290942669\n",
      "0.04996267040591185\n",
      "-0.7541744965897708\n",
      "0.08813415059602853\n"
     ]
    }
   ],
   "source": [
    "Greek_Example_2 = put_option(42, 40, 0.1, 0.5, 0.2)#S,K,r,T,v\n",
    "print(Greek_Example_2.delta())\n",
    "print(Greek_Example_2.gamma())\n",
    "print(Greek_Example_2.theta())\n",
    "print(Greek_Example_2.vega())"
   ]
  }
 ],
 "metadata": {
  "kernelspec": {
   "display_name": "Python 3",
   "language": "python",
   "name": "python3"
  },
  "language_info": {
   "codemirror_mode": {
    "name": "ipython",
    "version": 3
   },
   "file_extension": ".py",
   "mimetype": "text/x-python",
   "name": "python",
   "nbconvert_exporter": "python",
   "pygments_lexer": "ipython3",
   "version": "3.7.1"
  }
 },
 "nbformat": 4,
 "nbformat_minor": 2
}
